{
  "cells": [
    {
      "cell_type": "code",
      "execution_count": null,
      "metadata": {
        "id": "8fpR3adYDbYR"
      },
      "outputs": [],
      "source": [
        "# Import libraries\n",
        "import numpy as np\n",
        "import pandas as pd\n",
        "\n",
        "from sklearn.base import BaseEstimator, TransformerMixin\n",
        "from sklearn.pipeline import Pipeline\n",
        "from sklearn.feature_extraction.text import TfidfVectorizer\n",
        "from sklearn.model_selection import GridSearchCV, train_test_split\n",
        "from sklearn.naive_bayes import MultinomialNB\n",
        "from sklearn.linear_model import LogisticRegression\n",
        "from sklearn.ensemble import RandomForestClassifier\n",
        "from sklearn.neighbors import KNeighborsClassifier\n",
        "\n",
        "from sklearn.svm import SVC\n",
        "from sklearn.ensemble import StackingClassifier\n",
        "from sklearn.metrics import accuracy_score, precision_score, recall_score, f1_score, classification_report, roc_curve, roc_auc_score\n",
        "import matplotlib.pyplot as plt\n",
        "import xgboost as xgb\n",
        "import nltk\n",
        "from nltk.stem import PorterStemmer\n",
        "import json\n",
        "import joblib as joblib\n",
        "import pickle as pickle"
      ]
    },
    {
      "cell_type": "code",
      "execution_count": null,
      "metadata": {
        "colab": {
          "base_uri": "https://localhost:8080/"
        },
        "id": "asjRCCRrDhrt",
        "outputId": "9faafc5b-a9af-4e20-a10c-92dfe71151ad"
      },
      "outputs": [],
      "source": [
        "# nltk.download('punkt')\n",
        "# pip install unidecode\n",
        "from unidecode import unidecode"
      ]
    },
    {
      "cell_type": "code",
      "execution_count": null,
      "metadata": {
        "id": "HnX2dMx-EZr8"
      },
      "outputs": [],
      "source": [
        "# Load data\n",
        "data_train = pd.read_csv('../../Data Splits/train_data_70_30.csv')\n",
        "data_val = pd.read_csv('../../Data Splits/val_data_70_30.csv')"
      ]
    },
    {
      "cell_type": "code",
      "execution_count": null,
      "metadata": {},
      "outputs": [],
      "source": [
        "X_train = data_train['article']\n",
        "y_train = data_train['label']\n",
        "\n",
        "X_val = data_val['article']\n",
        "y_val = data_val['label']"
      ]
    },
    {
      "cell_type": "code",
      "execution_count": null,
      "metadata": {
        "id": "-FYd9AsIEjdB"
      },
      "outputs": [],
      "source": [
        "# Initialize Porter Stemmer\n",
        "ps = PorterStemmer()\n",
        "\n",
        "# Load stopwords\n",
        "with open('../../Datasets/stopwords-tl.json', 'r') as f:\n",
        "    stopwords = json.load(f)\n",
        "\n",
        "# Custom transformer for text preprocessing\n",
        "class TextPreprocessor(BaseEstimator, TransformerMixin):\n",
        "    def __init__(self):\n",
        "        pass\n",
        "    \n",
        "    def fit(self, X, y=None):\n",
        "        return self\n",
        "    \n",
        "    def transform(self, X):\n",
        "        return [' '.join(self.preprocess(text)) for text in X]\n",
        "    \n",
        "    def preprocess(self, text):\n",
        "        tokens = nltk.word_tokenize(text)\n",
        "        stems = [ps.stem(token) for token in tokens]\n",
        "        filtered = [stem for stem in stems if stem not in stopwords]\n",
        "        return filtered"
      ]
    },
    {
      "cell_type": "code",
      "execution_count": null,
      "metadata": {
        "id": "6Keoy2gMGGQQ"
      },
      "outputs": [],
      "source": [
        "# Initializing base models\n",
        "\n",
        "mnb = MultinomialNB()\n",
        "lr = LogisticRegression()\n",
        "rf = RandomForestClassifier()\n",
        "knn = KNeighborsClassifier()\n",
        "svm = SVC(probability=True)\n",
        "\n",
        "base_models = [mnb, lr, rf, knn, svm]\n",
        "base_names = ['MNB', 'LR', 'RF', 'KNN', 'SVM']"
      ]
    },
    {
      "cell_type": "code",
      "execution_count": null,
      "metadata": {
        "id": "FvSlf1JYGLZj"
      },
      "outputs": [],
      "source": [
        "# Define the XGBClassifier as meta learner\n",
        "xgb_model = xgb.XGBClassifier()\n",
        "\n",
        "# Define the parameter grid\n",
        "param_grid = {\n",
        "    'n_estimators': [100, 200, 300],\n",
        "    'learning_rate': [0.01, 0.1, 0.2],\n",
        "    'max_depth': [3, 4, 5],\n",
        "    'subsample': [0.8, 0.9, 1.0],\n",
        "    'colsample_bytree': [0.8, 0.9, 1.0]\n",
        "}\n",
        "\n"
      ]
    },
    {
      "cell_type": "code",
      "execution_count": null,
      "metadata": {
        "colab": {
          "base_uri": "https://localhost:8080/"
        },
        "id": "spJTs3UtHBAa",
        "outputId": "02714104-2de6-479a-a128-aa39fe45ccce"
      },
      "outputs": [],
      "source": [
        "# Define the steps in your pipeline\n",
        "steps = [\n",
        "    ('preprocess', TextPreprocessor()),\n",
        "    ('vectorizer',  TfidfVectorizer()),\n",
        "    ('gridsearch', GridSearchCV(estimator=xgb_model, param_grid=param_grid, scoring='accuracy', cv=5, n_jobs=-1))\n",
        "\n",
        "]\n",
        "\n",
        "# Create the pipeline\n",
        "pipeline = Pipeline(steps)\n",
        "\n",
        "# Fit the pipeline on the training data\n",
        "pipeline.fit(X_train, y_train)"
      ]
    },
    {
      "cell_type": "code",
      "execution_count": null,
      "metadata": {},
      "outputs": [],
      "source": [
        "best_meta = pipeline.named_steps['gridsearch'].best_estimator_\n",
        "joblib.dump(pipeline.named_steps['gridsearch'].best_estimator_, '../../Models/70-30 Test/pipeline_xgb_best_estimator.joblib')"
      ]
    },
    {
      "cell_type": "code",
      "execution_count": null,
      "metadata": {
        "colab": {
          "background_save": true
        },
        "id": "kt2XxWqaMzQG"
      },
      "outputs": [],
      "source": [
        "print(\"Best Hyperparameters: \", pipeline.named_steps['gridsearch'].best_params_)\n",
        "print(\"Best Accuracy: {:.2f}%\".format(pipeline.named_steps['gridsearch'].best_score_ * 100))"
      ]
    },
    {
      "cell_type": "code",
      "execution_count": null,
      "metadata": {
        "id": "NZiwcWTUdtCl"
      },
      "outputs": [],
      "source": [
        "steps = [\n",
        "    ('preprocess', TextPreprocessor()),\n",
        "    ('vectorizer',  TfidfVectorizer()),\n",
        "    ('stacking', StackingClassifier(estimators=list(zip(base_names, base_models)), final_estimator=best_meta ,cv=5))\n",
        "    ]\n",
        "stack = Pipeline(steps)\n",
        "stack.fit(X_train, y_train)"
      ]
    },
    {
      "cell_type": "code",
      "execution_count": null,
      "metadata": {
        "colab": {
          "background_save": true
        },
        "id": "d2vaplFxNavJ"
      },
      "outputs": [],
      "source": [
        "# stack = joblib.load('../../Models/70-30 Test/pipeline_xgb.joblib')\n",
        "\n",
        "# Create an empty DataFrame for storing metrics\n",
        "metrics_df = pd.DataFrame(index=base_names + ['Stacking Model'], columns=['Accuracy', 'Precision', 'Recall', 'F1 Score', 'AUC'])\n",
        "\n",
        "# Use TFIDF inside of stacking to vectorize X_val(Evaluation)\n",
        "vectorized_text = stack.named_steps['vectorizer'].transform(X_val)\n",
        "\n",
        "# Evaluate base models\n",
        "for model, name in  zip(stack.named_steps['stacking'].estimators_ , base_names):\n",
        "    y_pred = model.predict(vectorized_text)\n",
        "    y_prob = model.predict_proba(vectorized_text)[:, 1]  # Probability for positive class for ROC curve\n",
        "    \n",
        "    accuracy = accuracy_score(y_val, y_pred)\n",
        "    precision = precision_score(y_val, y_pred)\n",
        "    recall = recall_score(y_val, y_pred)\n",
        "    f1 = f1_score(y_val, y_pred)\n",
        "    auc = roc_auc_score(y_val, y_prob)\n",
        "\n",
        "    print(f\"Metrics for {name}:\")\n",
        "    print(f\"Accuracy: {accuracy}\")\n",
        "    print(f\"Precision: {precision}\")\n",
        "    print(f\"Recall: {recall}\")\n",
        "    print(f\"F1 Score: {f1}\")\n",
        "    print(f\"AUC: {auc}\")\n",
        "    print(f\"Classification Report:\\n{classification_report(y_val, y_pred)}\")\n",
        "\n",
        "    # Store metrics in the DataFrame\n",
        "    metrics_df.loc[name] = [accuracy, precision, recall, f1, auc]\n",
        "\n",
        "    # ROC Curve\n",
        "    fpr, tpr, _ = roc_curve(y_val, y_prob)\n",
        "    roc_auc = roc_auc_score(y_val, y_prob)\n",
        "\n",
        "    # Plot ROC Curve\n",
        "    plt.figure(figsize=(8, 6))\n",
        "    plt.plot(fpr, tpr, label=f'{name} (AUC = {roc_auc:.2f})')\n",
        "    plt.plot([0, 1], [0, 1], 'k--')\n",
        "    plt.xlim([0.0, 1.0])\n",
        "    plt.ylim([0.0, 1.05])\n",
        "    plt.xlabel('False Positive Rate')\n",
        "    plt.ylabel('True Positive Rate')\n",
        "    plt.title(f'ROC Curve - {name}')\n",
        "    plt.legend(loc=\"lower right\")\n",
        "    plt.show()"
      ]
    },
    {
      "cell_type": "code",
      "execution_count": null,
      "metadata": {
        "colab": {
          "background_save": true
        },
        "id": "RwULTlwbNsY9"
      },
      "outputs": [],
      "source": [
        "# Evaluate stacking model\n",
        "stack_y_pred = stack.predict(X_val)\n",
        "stack_y_prob = stack.predict_proba(X_val)[:, 1]  # Probability for positive class for ROC curve\n",
        "\n",
        "stack_accuracy = accuracy_score(y_val, stack_y_pred)\n",
        "stack_precision = precision_score(y_val, stack_y_pred)\n",
        "stack_recall = recall_score(y_val, stack_y_pred)\n",
        "stack_f1 = f1_score(y_val, stack_y_pred)\n",
        "stack_auc = roc_auc_score(y_val, stack_y_prob)\n",
        "\n",
        "print(\"Metrics for Stacking Model:\")\n",
        "print(f\"Accuracy: {stack_accuracy}\")\n",
        "print(f\"Precision: {stack_precision}\")\n",
        "print(f\"Recall: {stack_recall}\")\n",
        "print(f\"F1 Score: {stack_f1}\")\n",
        "print(f\"AUC: {stack_auc}\")\n",
        "print(f\"Classification Report:\\n{classification_report(y_val, stack_y_pred)}\")\n",
        "\n",
        "# ROC Curve for stacking model\n",
        "stack_fpr, stack_tpr, _ = roc_curve(y_val, stack_y_prob)\n",
        "stack_roc_auc = roc_auc_score(y_val, stack_y_prob)\n",
        "\n",
        "# Store stacking model metrics in the DataFrame\n",
        "metrics_df.loc['Stacking Model'] = [stack_accuracy, stack_precision, stack_recall, stack_f1, stack_auc]\n",
        "\n",
        "\n",
        "# Plot ROC Curve for stacking model\n",
        "plt.figure(figsize=(8, 6))\n",
        "plt.plot(stack_fpr, stack_tpr, label=f'Stacking Model (AUC = {stack_roc_auc:.2f})')\n",
        "plt.plot([0, 1], [0, 1], 'k--')\n",
        "plt.xlim([0.0, 1.0])\n",
        "plt.ylim([0.0, 1.05])\n",
        "plt.xlabel('False Positive Rate')\n",
        "plt.ylabel('True Positive Rate')\n",
        "plt.title('ROC Curve - Stacking Model')\n",
        "plt.legend(loc=\"lower right\")\n",
        "plt.show()\n",
        "\n",
        "# Display the comparison table\n",
        "print(\"Comparison of Models:\")\n",
        "print(metrics_df)"
      ]
    },
    {
      "cell_type": "code",
      "execution_count": null,
      "metadata": {},
      "outputs": [],
      "source": [
        "# Save the model using joblib\n",
        "joblib.dump(stack, '../../Models/70-30 Test/pipeline_xgb.joblib')"
      ]
    }
  ],
  "metadata": {
    "colab": {
      "provenance": []
    },
    "kernelspec": {
      "display_name": "Python 3",
      "name": "python3"
    },
    "language_info": {
      "codemirror_mode": {
        "name": "ipython",
        "version": 3
      },
      "file_extension": ".py",
      "mimetype": "text/x-python",
      "name": "python",
      "nbconvert_exporter": "python",
      "pygments_lexer": "ipython3",
      "version": "3.12.1"
    }
  },
  "nbformat": 4,
  "nbformat_minor": 0
}
