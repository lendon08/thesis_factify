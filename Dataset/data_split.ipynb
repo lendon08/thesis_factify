{
  "cells": [
    {
      "cell_type": "code",
      "execution_count": 1,
      "metadata": {
        "id": "8fpR3adYDbYR"
      },
      "outputs": [],
      "source": [
        "import pandas as pd\n",
        "from sklearn.model_selection import train_test_split"
      ]
    },
    {
      "cell_type": "code",
      "execution_count": 2,
      "metadata": {
        "id": "HnX2dMx-EZr8"
      },
      "outputs": [],
      "source": [
        "# Read the CSV file into a DataFrame\n",
        "data = pd.read_csv('fakenews.csv')\n",
        "\n",
        "# Shuffle the DataFrame while resetting the index\n",
        "data = data.sample(frac=1).reset_index(drop=True)"
      ]
    },
    {
      "cell_type": "code",
      "execution_count": 3,
      "metadata": {},
      "outputs": [
        {
          "name": "stdout",
          "output_type": "stream",
          "text": [
            "Number of rows before removing duplicates: 3206\n",
            "Number of rows after removing duplicates: 3005\n"
          ]
        }
      ],
      "source": [
        "# Count the number of rows before removing duplicates\n",
        "num_rows_before = len(data)\n",
        "\n",
        "# Remove duplicates\n",
        "data.drop_duplicates(inplace=True)\n",
        "\n",
        "# Count the number of rows after removing duplicates\n",
        "num_rows_after = len(data)\n",
        "\n",
        "print(\"Number of rows before removing duplicates:\", num_rows_before)\n",
        "print(\"Number of rows after removing duplicates:\", num_rows_after)"
      ]
    },
    {
      "cell_type": "code",
      "execution_count": 4,
      "metadata": {},
      "outputs": [],
      "source": [
        "X = data['article']\n",
        "y = data['label']"
      ]
    },
    {
      "cell_type": "code",
      "execution_count": 5,
      "metadata": {
        "id": "H1JN_jgx-Ism"
      },
      "outputs": [
        {
          "name": "stdout",
          "output_type": "stream",
          "text": [
            "Train Data shape: (2103, 2)\n",
            "Test Data shape: (902, 2)\n"
          ]
        }
      ],
      "source": [
        "# Split the data into training and testing sets (70% training, 30% testing) with stratification\n",
        "X_train, X_test, y_train, y_test = train_test_split(X, y, test_size=0.3, stratify=y, random_state=42)\n",
        "\n",
        "# Merging the data\n",
        "train_data = pd.concat([X_train, y_train], axis=1)\n",
        "test_data = pd.concat([X_test, y_test], axis=1)\n",
        "\n",
        "# Display the shapes of data sets\n",
        "print(\"Train Data shape:\", train_data.shape)\n",
        "print(\"Test Data shape:\", test_data.shape)\n",
        "\n",
        "# Exporting the merged datasets to CSV\n",
        "train_data.to_csv('train_data.csv', index=False)\n",
        "test_data.to_csv('test_data.csv', index=False)"
      ]
    },
    {
      "cell_type": "code",
      "execution_count": 6,
      "metadata": {},
      "outputs": [
        {
          "name": "stdout",
          "output_type": "stream",
          "text": [
            "\n",
            "Train set label counts: label\n",
            "1    1056\n",
            "0    1047\n",
            "Name: count, dtype: int64\n",
            "\n",
            "Train set label counts: label\n",
            "1    453\n",
            "0    449\n",
            "Name: count, dtype: int64\n"
          ]
        }
      ],
      "source": [
        "# 1 = Lehitimo\n",
        "# 2 = Peke\n",
        "print(\"\\nTrain set label counts:\", y_train.value_counts())\n",
        "print(\"\\nTrain set label counts:\", y_test.value_counts())"
      ]
    }
  ],
  "metadata": {
    "colab": {
      "provenance": []
    },
    "kernelspec": {
      "display_name": "Python 3",
      "name": "python3"
    },
    "language_info": {
      "codemirror_mode": {
        "name": "ipython",
        "version": 3
      },
      "file_extension": ".py",
      "mimetype": "text/x-python",
      "name": "python",
      "nbconvert_exporter": "python",
      "pygments_lexer": "ipython3",
      "version": "3.11.2"
    }
  },
  "nbformat": 4,
  "nbformat_minor": 0
}
