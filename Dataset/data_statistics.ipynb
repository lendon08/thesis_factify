{
 "cells": [
  {
   "cell_type": "code",
   "execution_count": null,
   "metadata": {},
   "outputs": [],
   "source": [
    "import pandas as pd\n",
    "import numpy as np\n",
    "from sklearn.model_selection import train_test_split"
   ]
  },
  {
   "cell_type": "code",
   "execution_count": null,
   "metadata": {},
   "outputs": [],
   "source": [
    "# Read the CSV file into a DataFrame\n",
    "data = pd.read_csv('fakenews.csv')\n",
    "\n",
    "# Shuffle the DataFrame while resetting the index\n",
    "data = data.sample(frac=1).reset_index(drop=True)"
   ]
  },
  {
   "cell_type": "code",
   "execution_count": null,
   "metadata": {},
   "outputs": [],
   "source": [
    "# Count the number of rows before removing duplicates\n",
    "num_rows_before = len(data)\n",
    "\n",
    "# Remove duplicates\n",
    "data.drop_duplicates(inplace=True)\n",
    "\n",
    "# Count the number of rows after removing duplicates\n",
    "num_rows_after = len(data)\n",
    "\n",
    "print(\"Number of rows before removing duplicates:\", num_rows_before)\n",
    "print(\"Number of rows after removing duplicates:\", num_rows_after)"
   ]
  },
  {
   "cell_type": "code",
   "execution_count": null,
   "metadata": {},
   "outputs": [],
   "source": [
    "# Load data\n",
    "data_train = pd.read_csv('train_data.csv')\n",
    "data_test = pd.read_csv('test_data.csv')\n",
    "\n",
    "X_train = data_train['article']\n",
    "y_train = data_train['label']\n",
    "\n",
    "X_test = data_test['article']\n",
    "y_test = data_test['label']"
   ]
  },
  {
   "cell_type": "code",
   "execution_count": null,
   "metadata": {},
   "outputs": [],
   "source": [
    "# 1 = Lehitimo\n",
    "# 2 = Peke\n",
    "print(\"\\nTrain set label counts:\", y_train.value_counts())\n",
    "print(\"\\nTrain set label counts:\", y_test.value_counts())\n",
    "\n",
    "print(length(unique(X_train)))"
   ]
  }
 ],
 "metadata": {
  "language_info": {
   "name": "python"
  }
 },
 "nbformat": 4,
 "nbformat_minor": 2
}
