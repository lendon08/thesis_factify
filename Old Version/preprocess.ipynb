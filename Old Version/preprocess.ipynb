{
 "cells": [
  {
   "cell_type": "code",
   "execution_count": null,
   "metadata": {},
   "outputs": [],
   "source": [
    "import re\n",
    "import string\n",
    "import nltk"
   ]
  },
  {
   "cell_type": "markdown",
   "metadata": {},
   "source": [
    "2.4.1\tLowercase Conversion"
   ]
  },
  {
   "cell_type": "code",
   "execution_count": 5,
   "metadata": {},
   "outputs": [
    {
     "name": "stdout",
     "output_type": "stream",
     "text": [
      "kumakalat ngayon sa social media ang isang video ng lalaking galit na galit sa isang technician matapos maayos agad ang kanyang cellphone. nakuhanan sa video ng isang netizen ang paghahamon ng lalaki nang singilin siya ng technician matapos nito mapagana ang umano'y sirang cellphone. giit ng lalaki na wala pang sampung segundo nang mapagana ang kanyang cellphone pero p300 ang sinisingil sa kanya. makikita sa video ay inaaya ng lalaki ang technician na magpunta sila sa barangay at babayaran ito ng p1000. ayon sa technician, pinindot lamang nito ang volume at power kaya nito napagana agad ang cellphone ng nag-aalburotong lalaki. ayon naman sa nag-upload ng video, naghamon umano ang lalaki at nagtangka na pasukin ang technician sa loob ng kanyang booth. inulan naman ng batikos mula sa mga netizen ang nasabing lalaki sa viral video. dapat tumupad ang lalaki sa napag-usapan nila na presyo dahil napagana naman nito ang kanyang cellphone. saad naman ng iba, dapat ay nag-research na lang sa google o youtube ang lalaki at hindi na nagpagawa sa technician kung ayaw nito magbayad. https://www.youtube.com/watch?v=cqkgjdbzd1m\n"
     ]
    }
   ],
   "source": [
    "str = \"Kumakalat ngayon sa social media ang isang video ng lalaking galit na galit sa isang technician matapos maayos agad ang kanyang cellphone. Nakuhanan sa video ng isang netizen ang paghahamon ng lalaki nang singilin siya ng technician matapos nito mapagana ang umano'y sirang cellphone. Giit ng lalaki na wala pang sampung segundo nang mapagana ang kanyang cellphone pero P300 ang sinisingil sa kanya. Makikita sa video ay inaaya ng lalaki ang technician na magpunta sila sa barangay at babayaran ito ng P1000. Ayon sa technician, pinindot lamang nito ang volume at power kaya nito napagana agad ang cellphone ng nag-aalburotong lalaki. Ayon naman sa nag-upload ng video, naghamon umano ang lalaki at nagtangka na pasukin ang technician sa loob ng kanyang booth. Inulan naman ng batikos mula sa mga netizen ang nasabing lalaki sa viral video. Dapat tumupad ang lalaki sa napag-usapan nila na presyo dahil napagana naman nito ang kanyang cellphone. Saad naman ng iba, dapat ay nag-research na lang sa Google o YouTube ang lalaki at hindi na nagpagawa sa technician kung ayaw nito magbayad. https://www.youtube.com/watch?v=cQKGjDbZD1M\"\n",
    "\n",
    "lowered = str.lower()\n",
    "print(lowered)"
   ]
  },
  {
   "cell_type": "markdown",
   "metadata": {},
   "source": [
    "2.4.2\tURL Removal"
   ]
  },
  {
   "cell_type": "code",
   "execution_count": 7,
   "metadata": {},
   "outputs": [
    {
     "name": "stdout",
     "output_type": "stream",
     "text": [
      "kumakalat ngayon sa social media ang isang video ng lalaking galit na galit sa isang technician matapos maayos agad ang kanyang cellphone. nakuhanan sa video ng isang netizen ang paghahamon ng lalaki nang singilin siya ng technician matapos nito mapagana ang umano'y sirang cellphone. giit ng lalaki na wala pang sampung segundo nang mapagana ang kanyang cellphone pero p300 ang sinisingil sa kanya. makikita sa video ay inaaya ng lalaki ang technician na magpunta sila sa barangay at babayaran ito ng p1000. ayon sa technician, pinindot lamang nito ang volume at power kaya nito napagana agad ang cellphone ng nag-aalburotong lalaki. ayon naman sa nag-upload ng video, naghamon umano ang lalaki at nagtangka na pasukin ang technician sa loob ng kanyang booth. inulan naman ng batikos mula sa mga netizen ang nasabing lalaki sa viral video. dapat tumupad ang lalaki sa napag-usapan nila na presyo dahil napagana naman nito ang kanyang cellphone. saad naman ng iba, dapat ay nag-research na lang sa google o youtube ang lalaki at hindi na nagpagawa sa technician kung ayaw nito magbayad. \n"
     ]
    }
   ],
   "source": [
    "urled = re.sub('https?://\\S+|www\\.\\S+', '', lowered)\n",
    "print(urled)"
   ]
  },
  {
   "cell_type": "markdown",
   "metadata": {},
   "source": [
    "2.4.3\tText Simplification"
   ]
  },
  {
   "cell_type": "code",
   "execution_count": 8,
   "metadata": {},
   "outputs": [
    {
     "name": "stdout",
     "output_type": "stream",
     "text": [
      "kumakalat ngayon sa social media ang isang video ng lalaking galit na galit sa isang technician matapos maayos agad ang kanyang cellphone  nakuhanan sa video ng isang netizen ang paghahamon ng lalaki nang singilin siya ng technician matapos nito mapagana ang umano y sirang cellphone  giit ng lalaki na wala pang sampung segundo nang mapagana ang kanyang cellphone pero  ang sinisingil sa kanya  makikita sa video ay inaaya ng lalaki ang technician na magpunta sila sa barangay at babayaran ito ng   ayon sa technician  pinindot lamang nito ang volume at power kaya nito napagana agad ang cellphone ng nag aalburotong lalaki  ayon naman sa nag upload ng video  naghamon umano ang lalaki at nagtangka na pasukin ang technician sa loob ng kanyang booth  inulan naman ng batikos mula sa mga netizen ang nasabing lalaki sa viral video  dapat tumupad ang lalaki sa napag usapan nila na presyo dahil napagana naman nito ang kanyang cellphone  saad naman ng iba  dapat ay nag research na lang sa google o youtube ang lalaki at hindi na nagpagawa sa technician kung ayaw nito magbayad  \n"
     ]
    }
   ],
   "source": [
    "def wordopt(text):\n",
    "    text = re.sub('\\[.*?\\]', '', text)\n",
    "    text = re.sub(\"\\\\W\", \" \", text)\n",
    "    text = re.sub('<.*?>+', '', text)\n",
    "    text = re.sub('[%s]' % re.escape(string.punctuation), '', text)\n",
    "    text = re.sub('\\n', '', text)\n",
    "    text = re.sub('\\w*\\d\\w*', '', text)\n",
    "    return text\n",
    "\n",
    "simplified = wordopt(urled)\n",
    "print(simplified)"
   ]
  },
  {
   "cell_type": "markdown",
   "metadata": {},
   "source": [
    "2.4.4\tTokenization"
   ]
  },
  {
   "cell_type": "code",
   "execution_count": 9,
   "metadata": {},
   "outputs": [
    {
     "name": "stdout",
     "output_type": "stream",
     "text": [
      "['kumakalat', 'ngayon', 'sa', 'social', 'media', 'ang', 'isang', 'video', 'ng', 'lalaking', 'galit', 'na', 'galit', 'sa', 'isang', 'technician', 'matapos', 'maayos', 'agad', 'ang', 'kanyang', 'cellphone', 'nakuhanan', 'sa', 'video', 'ng', 'isang', 'netizen', 'ang', 'paghahamon', 'ng', 'lalaki', 'nang', 'singilin', 'siya', 'ng', 'technician', 'matapos', 'nito', 'mapagana', 'ang', 'umano', 'y', 'sirang', 'cellphone', 'giit', 'ng', 'lalaki', 'na', 'wala', 'pang', 'sampung', 'segundo', 'nang', 'mapagana', 'ang', 'kanyang', 'cellphone', 'pero', 'ang', 'sinisingil', 'sa', 'kanya', 'makikita', 'sa', 'video', 'ay', 'inaaya', 'ng', 'lalaki', 'ang', 'technician', 'na', 'magpunta', 'sila', 'sa', 'barangay', 'at', 'babayaran', 'ito', 'ng', 'ayon', 'sa', 'technician', 'pinindot', 'lamang', 'nito', 'ang', 'volume', 'at', 'power', 'kaya', 'nito', 'napagana', 'agad', 'ang', 'cellphone', 'ng', 'nag', 'aalburotong', 'lalaki', 'ayon', 'naman', 'sa', 'nag', 'upload', 'ng', 'video', 'naghamon', 'umano', 'ang', 'lalaki', 'at', 'nagtangka', 'na', 'pasukin', 'ang', 'technician', 'sa', 'loob', 'ng', 'kanyang', 'booth', 'inulan', 'naman', 'ng', 'batikos', 'mula', 'sa', 'mga', 'netizen', 'ang', 'nasabing', 'lalaki', 'sa', 'viral', 'video', 'dapat', 'tumupad', 'ang', 'lalaki', 'sa', 'napag', 'usapan', 'nila', 'na', 'presyo', 'dahil', 'napagana', 'naman', 'nito', 'ang', 'kanyang', 'cellphone', 'saad', 'naman', 'ng', 'iba', 'dapat', 'ay', 'nag', 'research', 'na', 'lang', 'sa', 'google', 'o', 'youtube', 'ang', 'lalaki', 'at', 'hindi', 'na', 'nagpagawa', 'sa', 'technician', 'kung', 'ayaw', 'nito', 'magbayad']\n"
     ]
    }
   ],
   "source": [
    "tokenized = nltk.word_tokenize(simplified)\n",
    "print(tokenized)"
   ]
  },
  {
   "cell_type": "markdown",
   "metadata": {},
   "source": [
    "2.4.5\tStopword Removal"
   ]
  },
  {
   "cell_type": "code",
   "execution_count": 10,
   "metadata": {},
   "outputs": [],
   "source": [
    "from nltk.stem import PorterStemmer\n",
    "import json"
   ]
  },
  {
   "cell_type": "code",
   "execution_count": 11,
   "metadata": {},
   "outputs": [],
   "source": [
    "ps = PorterStemmer()\n",
    "with open('stopwords-tl.json', 'r') as f:\n",
    "    stopwords = json.load(f)"
   ]
  },
  {
   "cell_type": "code",
   "execution_count": 12,
   "metadata": {},
   "outputs": [
    {
     "name": "stdout",
     "output_type": "stream",
     "text": [
      "['kumakalat', 'social', 'media', 'video', 'lalak', 'galit', 'galit', 'technician', 'matapo', 'maayo', 'agad', 'cellphon', 'nakuhanan', 'video', 'netizen', 'paghahamon', 'lalaki', 'nang', 'singilin', 'technician', 'matapo', 'mapagana', 'umano', 'y', 'sirang', 'cellphon', 'giit', 'lalaki', 'wala', 'pang', 'sampung', 'segundo', 'nang', 'mapagana', 'cellphon', 'sinisingil', 'makikita', 'video', 'inaaya', 'lalaki', 'technician', 'magpunta', 'barangay', 'babayaran', 'ayon', 'technician', 'pinindot', 'volum', 'power', 'napagana', 'agad', 'cellphon', 'nag', 'aalburotong', 'lalaki', 'ayon', 'naman', 'nag', 'upload', 'video', 'naghamon', 'umano', 'lalaki', 'nagtangka', 'pasukin', 'technician', 'loob', 'booth', 'inulan', 'naman', 'batiko', 'netizen', 'nasab', 'lalaki', 'viral', 'video', 'tumupad', 'lalaki', 'napag', 'usapan', 'presyo', 'napagana', 'naman', 'cellphon', 'saad', 'naman', 'nag', 'research', 'lang', 'googl', 'youtub', 'lalaki', 'nagpagawa', 'technician', 'ayaw', 'magbayad']\n"
     ]
    }
   ],
   "source": [
    "def preprocess(text):\n",
    "    stems = [ps.stem(token) for token in text]\n",
    "    filtered = [stem for stem in stems if stem not in stopwords]\n",
    "    return filtered\n",
    "\n",
    "preprocessed = preprocess(tokenized)\n",
    "print(preprocessed)"
   ]
  },
  {
   "cell_type": "markdown",
   "metadata": {},
   "source": [
    "2.5\tFeature Engineering\n",
    "2.5.1\tTF-IDF Vectorization"
   ]
  },
  {
   "cell_type": "code",
   "execution_count": 13,
   "metadata": {},
   "outputs": [],
   "source": [
    "from sklearn.feature_extraction.text import TfidfVectorizer"
   ]
  },
  {
   "cell_type": "code",
   "execution_count": 16,
   "metadata": {},
   "outputs": [
    {
     "name": "stdout",
     "output_type": "stream",
     "text": [
      "lalaki: 0.49903\n",
      "technician: 0.37427\n",
      "cellphon: 0.31189\n",
      "video: 0.31189\n",
      "naman: 0.24951\n",
      "nag: 0.18713\n",
      "napagana: 0.12476\n",
      "ayon: 0.12476\n",
      "umano: 0.12476\n",
      "mapagana: 0.12476\n",
      "nang: 0.12476\n",
      "netizen: 0.12476\n",
      "agad: 0.12476\n",
      "matapo: 0.12476\n",
      "galit: 0.12476\n",
      "magbayad: 0.06238\n",
      "ayaw: 0.06238\n",
      "nagpagawa: 0.06238\n",
      "youtub: 0.06238\n",
      "googl: 0.06238\n",
      "lang: 0.06238\n",
      "research: 0.06238\n",
      "saad: 0.06238\n",
      "presyo: 0.06238\n",
      "usapan: 0.06238\n",
      "napag: 0.06238\n",
      "tumupad: 0.06238\n",
      "viral: 0.06238\n",
      "nasab: 0.06238\n",
      "batiko: 0.06238\n",
      "inulan: 0.06238\n",
      "booth: 0.06238\n",
      "loob: 0.06238\n",
      "pasukin: 0.06238\n",
      "nagtangka: 0.06238\n",
      "naghamon: 0.06238\n",
      "upload: 0.06238\n",
      "aalburotong: 0.06238\n",
      "power: 0.06238\n",
      "volum: 0.06238\n",
      "pinindot: 0.06238\n",
      "babayaran: 0.06238\n",
      "barangay: 0.06238\n",
      "magpunta: 0.06238\n",
      "inaaya: 0.06238\n",
      "makikita: 0.06238\n",
      "sinisingil: 0.06238\n",
      "segundo: 0.06238\n",
      "sampung: 0.06238\n",
      "pang: 0.06238\n",
      "wala: 0.06238\n",
      "giit: 0.06238\n",
      "sirang: 0.06238\n",
      "singilin: 0.06238\n",
      "paghahamon: 0.06238\n",
      "nakuhanan: 0.06238\n",
      "maayo: 0.06238\n",
      "lalak: 0.06238\n",
      "media: 0.06238\n",
      "social: 0.06238\n",
      "kumakalat: 0.06238\n"
     ]
    }
   ],
   "source": [
    "# Joining tokenized text into a string (TF-IDF vectorizer expects a list of strings)\n",
    "text = ' '.join(preprocessed)\n",
    "\n",
    "# Initialize TfidfVectorizer\n",
    "tfidf_vectorizer = TfidfVectorizer()\n",
    "\n",
    "# Fit and transform the text\n",
    "tfidf_matrix = tfidf_vectorizer.fit_transform([text])\n",
    "\n",
    "# Get the feature names (words)\n",
    "feature_names = tfidf_vectorizer.get_feature_names_out()\n",
    "\n",
    "# Create a dictionary to store word frequencies\n",
    "word_frequencies = {}\n",
    "\n",
    "# Fill the dictionary with word frequencies\n",
    "for col in tfidf_matrix.nonzero()[1]:\n",
    "    word = feature_names[col]\n",
    "    frequency = tfidf_matrix[0, col]\n",
    "    word_frequencies[word] = frequency\n",
    "\n",
    "# Print the word frequencies\n",
    "for word, frequency in sorted(word_frequencies.items(), key=lambda x: x[1], reverse=True):\n",
    "    print(f\"{word}: {frequency:.5f}\")"
   ]
  }
 ],
 "metadata": {
  "kernelspec": {
   "display_name": "Python 3",
   "language": "python",
   "name": "python3"
  },
  "language_info": {
   "codemirror_mode": {
    "name": "ipython",
    "version": 3
   },
   "file_extension": ".py",
   "mimetype": "text/x-python",
   "name": "python",
   "nbconvert_exporter": "python",
   "pygments_lexer": "ipython3",
   "version": "3.11.1"
  }
 },
 "nbformat": 4,
 "nbformat_minor": 2
}
