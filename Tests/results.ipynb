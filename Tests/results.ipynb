{
 "cells": [
  {
   "cell_type": "code",
   "execution_count": 1,
   "metadata": {},
   "outputs": [],
   "source": [
    "# Import libraries\n",
    "import numpy as np\n",
    "import pandas as pd\n",
    "from sklearn.feature_extraction.text import TfidfVectorizer\n",
    "from sklearn.model_selection import GridSearchCV\n",
    "from sklearn.naive_bayes import MultinomialNB\n",
    "from sklearn.linear_model import LogisticRegression\n",
    "from sklearn.ensemble import RandomForestClassifier\n",
    "from sklearn.neighbors import KNeighborsClassifier\n",
    "from sklearn.svm import SVC\n",
    "from sklearn.ensemble import StackingClassifier\n",
    "from sklearn.metrics import accuracy_score, precision_score, recall_score, f1_score, classification_report, roc_curve, roc_auc_score\n",
    "import matplotlib.pyplot as plt\n",
    "from nltk.stem import PorterStemmer\n",
    "import json\n",
    "import nltk\n",
    "import unicodedata\n",
    "import re\n",
    "import string\n",
    "import joblib as joblib\n",
    "import pickle as pickle"
   ]
  },
  {
   "cell_type": "code",
   "execution_count": 2,
   "metadata": {},
   "outputs": [],
   "source": [
    "# nltk.download('punkt')\n",
    "# pip install unidecode\n",
    "from unidecode import unidecode"
   ]
  },
  {
   "cell_type": "code",
   "execution_count": 3,
   "metadata": {},
   "outputs": [],
   "source": [
    "# Load data\n",
    "data_train = pd.read_csv('../Dataset/train_data.csv')\n",
    "data_test = pd.read_csv('../Dataset/test_data.csv')"
   ]
  },
  {
   "cell_type": "code",
   "execution_count": 4,
   "metadata": {},
   "outputs": [],
   "source": [
    "X_train = data_train['article']\n",
    "y_train = data_train['label']\n",
    "\n",
    "X_test = data_test['article']\n",
    "y_test = data_test['label']"
   ]
  },
  {
   "cell_type": "code",
   "execution_count": 5,
   "metadata": {},
   "outputs": [],
   "source": [
    "# Text preprocessing\n",
    "def wordopt(text):\n",
    "    text = text.lower()\n",
    "    text = re.sub('https?://\\S+|www\\.\\S+', '', text)\n",
    "    text = re.sub('\\[.*?\\]', '', text)\n",
    "    text = re.sub(\"\\\\W\", \" \", text)\n",
    "    text = re.sub('<.*?>+', '', text)\n",
    "    text = re.sub('[%s]' % re.escape(string.punctuation), '', text)\n",
    "    text = re.sub('\\n', '', text)\n",
    "    text = re.sub('\\w*\\d\\w*', '', text)\n",
    "    return text\n",
    "\n",
    "ps = PorterStemmer()\n",
    "with open('../Resources/stopwords-tl.json', 'r') as f:\n",
    "    stopwords = json.load(f)\n",
    "\n",
    "def preprocess(text):\n",
    "    text = wordopt(text)\n",
    "    tokens = nltk.word_tokenize(text)\n",
    "    stems = [ps.stem(token) for token in tokens]\n",
    "    filtered = [stem for stem in stems if stem not in stopwords]\n",
    "    return filtered"
   ]
  },
  {
   "cell_type": "code",
   "execution_count": 6,
   "metadata": {},
   "outputs": [],
   "source": [
    "# Apply preprocess function to X_train\n",
    "X_train = X_train.apply(preprocess)\n",
    "\n",
    "# Apply preprocess function to X_test\n",
    "X_test = X_test.apply(preprocess)"
   ]
  },
  {
   "cell_type": "code",
   "execution_count": 7,
   "metadata": {},
   "outputs": [
    {
     "name": "stdout",
     "output_type": "stream",
     "text": [
      "Shape of X_train_tfidf: (2103, 27707)\n",
      "Shape of X_test_tfidf: (902, 27707)\n"
     ]
    }
   ],
   "source": [
    "# Convert the preprocessed text into a list of strings\n",
    "X_train_processed = [' '.join(tokens) for tokens in X_train]\n",
    "X_test_processed = [' '.join(tokens) for tokens in X_test]\n",
    "\n",
    "# Initialize the TfidfVectorizer\n",
    "tfidf_vectorizer = TfidfVectorizer()\n",
    "\n",
    "# Fit and transform the training data\n",
    "X_train_tfidf = tfidf_vectorizer.fit_transform(X_train_processed)\n",
    "\n",
    "# Transform the validation data using the same vectorizer\n",
    "X_test_tfidf = tfidf_vectorizer.transform(X_test_processed)\n",
    "\n",
    "# Print the shape of the TF-IDF matrices (No of rows, No of columns)\n",
    "print(\"Shape of X_train_tfidf:\", X_train_tfidf.shape)\n",
    "print(\"Shape of X_test_tfidf:\", X_test_tfidf.shape)"
   ]
  },
  {
   "cell_type": "code",
   "execution_count": 8,
   "metadata": {},
   "outputs": [],
   "source": [
    "# Initializing base models\n",
    "\n",
    "mnb = MultinomialNB()\n",
    "lr = LogisticRegression()\n",
    "rf = RandomForestClassifier()\n",
    "knn = KNeighborsClassifier()\n",
    "svm = SVC(probability=True)\n",
    "\n",
    "# mnb = MultinomialNB(alpha= 0.1, fit_prior=False)\n",
    "# lr = LogisticRegression(C= 100, penalty= 'l2', solver= 'liblinear')\n",
    "# rf = RandomForestClassifier(n_estimators= 300, random_state=42)\n",
    "# knn = KNeighborsClassifier(metric= 'euclidean', n_neighbors= 5, weights= 'uniform')\n",
    "# svm = SVC(C=10, degree=2, kernel = 'linear', probability = True)\n",
    "\n",
    "base_models = [mnb, lr, rf, knn, svm]\n",
    "base_names = ['MNB', 'LR', 'RF', 'KNN', 'SVM']"
   ]
  },
  {
   "cell_type": "code",
   "execution_count": 9,
   "metadata": {},
   "outputs": [],
   "source": [
    "stack_rf = joblib.load('../Models/Stack/stack_rf_5_final_953.joblib')\n",
    "stack_lr = joblib.load('../Models/Stack/stack_lr.joblib')\n",
    "stack_svm = joblib.load('../Models/Stack/stack_svm.joblib')\n",
    "stack_mlp = joblib.load('../Models/Stack/stack_mlp_2_958.joblib')\n",
    "\n",
    "models = [\n",
    "    (stack_lr, 'Logistic Regression'),\n",
    "    (stack_rf, 'Random Forest'),\n",
    "    (stack_svm, 'Support Vector Machine'),\n",
    "    (stack_mlp, 'Multi-layer Perceptron'),\n",
    "]"
   ]
  },
  {
   "cell_type": "code",
   "execution_count": 10,
   "metadata": {},
   "outputs": [
    {
     "name": "stdout",
     "output_type": "stream",
     "text": [
      "Comparison of Models: (TRAINING)\n",
      "                        Accuracy Precision    Recall  F1 Score       AUC\n",
      "MNB                      0.94912  0.910823  0.996212  0.951606  0.996599\n",
      "LR                        0.9767  0.994112   0.95928  0.976386  0.999159\n",
      "RF                           1.0       1.0       1.0       1.0       1.0\n",
      "KNN                     0.913932  0.871708  0.971591  0.918943   0.98205\n",
      "SVM                          1.0       1.0       1.0       1.0       1.0\n",
      "Stacking Model                                                          \n",
      "Logistic Regression          1.0       1.0       1.0       1.0       1.0\n",
      "Random Forest                1.0       1.0       1.0       1.0       1.0\n",
      "Support Vector Machine       1.0       1.0       1.0       1.0       1.0\n",
      "Multi-layer Perceptron       1.0       1.0       1.0       1.0       1.0\n"
     ]
    }
   ],
   "source": [
    "\n",
    "base_names = ['MNB', 'LR', 'RF', 'KNN', 'SVM']\n",
    "metrics_df = pd.DataFrame(index=base_names, columns=['Accuracy', 'Precision', 'Recall', 'F1 Score', 'AUC'])\n",
    "\n",
    "\n",
    "# Evaluate base models\n",
    "for model, name in  zip(base_models, base_names):\n",
    "    model.fit(X_train_tfidf, y_train)\n",
    "    y_pred = model.predict(X_train_tfidf)\n",
    "    y_prob = model.predict_proba(X_train_tfidf)[:, 1]  # Probability for positive class for ROC curve\n",
    "    \n",
    "    accuracy = accuracy_score(y_train, y_pred)\n",
    "    precision = precision_score(y_train, y_pred)\n",
    "    recall = recall_score(y_train, y_pred)\n",
    "    f1 = f1_score(y_train, y_pred)\n",
    "    auc = roc_auc_score(y_train, y_prob)\n",
    "\n",
    "    # Store metrics in the DataFrame\n",
    "    metrics_df.loc[name] = [accuracy, precision, recall, f1, auc]\n",
    "\n",
    "\n",
    "# Evaluate stacking models\n",
    "def get_performance_stats(model, name):\n",
    "    stack_y_pred = model.predict(X_train_tfidf)\n",
    "    stack_y_prob = model.predict_proba(X_train_tfidf)[:, 1]\n",
    "\n",
    "    stack_accuracy = accuracy_score(y_train, stack_y_pred)\n",
    "    stack_precision = precision_score(y_train, stack_y_pred)\n",
    "    stack_recall = recall_score(y_train, stack_y_pred)\n",
    "    stack_f1 = f1_score(y_train, stack_y_pred)\n",
    "    stack_auc = roc_auc_score(y_train, stack_y_prob)\n",
    "    metrics_df.loc[name] = [stack_accuracy, stack_precision, stack_recall, stack_f1, stack_auc]\n",
    "\n",
    "metrics_df.loc['Stacking Model'] = [\"\", \"\", \"\", \"\", \"\"]\n",
    "\n",
    "for model, name in models:\n",
    "    get_performance_stats(model, name)\n",
    "\n",
    "# Display the comparison table\n",
    "print(\"Comparison of Models: (TRAINING)\")\n",
    "print(metrics_df)"
   ]
  },
  {
   "cell_type": "code",
   "execution_count": 20,
   "metadata": {},
   "outputs": [
    {
     "name": "stdout",
     "output_type": "stream",
     "text": [
      "TRAINING BASE MODEL ACCURACY\n",
      "MNB 0.8312\n",
      "MNB [0.8337 0.829  0.8147 0.8548 0.8238]\n",
      "\n",
      "LR 0.9263\n",
      "LR [0.9264 0.924  0.924  0.9333 0.9238]\n",
      "\n",
      "RF 0.9249\n",
      "RF [0.9145 0.9026 0.9406 0.9405 0.9262]\n",
      "\n",
      "KNN 0.8578\n",
      "KNN [0.8694 0.8432 0.8456 0.8595 0.8714]\n",
      "\n",
      "SVM 0.9358\n",
      "SVM [0.9382 0.9287 0.9359 0.9405 0.9357]\n",
      "\n"
     ]
    }
   ],
   "source": [
    "from sklearn.model_selection import cross_val_score\n",
    "\n",
    "mnb = MultinomialNB()\n",
    "lr = LogisticRegression()\n",
    "rf = RandomForestClassifier()\n",
    "knn = KNeighborsClassifier()\n",
    "svm = SVC(probability=True)\n",
    "\n",
    "base_names = ['MNB', 'LR', 'RF', 'KNN', 'SVM']\n",
    "base_models = [mnb, lr, rf, knn, svm]\n",
    "\n",
    "print(\"TRAINING BASE MODEL ACCURACY\")\n",
    "for model, name in zip(base_models, base_names):\n",
    "    model.fit(X_train_tfidf, y_train)\n",
    "    scores = cross_val_score(model, X_train_tfidf, y_train, cv=5, scoring='accuracy') \n",
    "    mean_accuracy = scores.mean()\n",
    "\n",
    "    joblib.dump(model, '../Models/Base/basemodel_' + str(name) + '.joblib')\n",
    "    print(name, '%.4f' % mean_accuracy)\n",
    "    print(name, np.around(scores, decimals=4))\n",
    "    print()\n",
    "    \n",
    "\n"
   ]
  },
  {
   "cell_type": "code",
   "execution_count": 21,
   "metadata": {},
   "outputs": [
    {
     "name": "stdout",
     "output_type": "stream",
     "text": [
      "TRAINING BASE MODEL ACCURACY\n",
      "MNB 0.9082\n",
      "MNB [0.9026 0.9002 0.8884 0.931  0.919 ]\n",
      "\n",
      "LR 0.9520\n",
      "LR [0.9525 0.9477 0.9359 0.9571 0.9667]\n",
      "\n",
      "RF 0.9306\n",
      "RF [0.9169 0.9287 0.943  0.9381 0.9262]\n",
      "\n",
      "KNN 0.8578\n",
      "KNN [0.8694 0.8432 0.8456 0.8595 0.8714]\n",
      "\n",
      "SVM 0.9501\n",
      "SVM [0.9596 0.9454 0.9359 0.95   0.9595]\n",
      "\n"
     ]
    }
   ],
   "source": [
    "mnb = MultinomialNB(alpha= 0.1, fit_prior=False)\n",
    "lr = LogisticRegression(C= 100, penalty= 'l2', solver= 'liblinear')\n",
    "rf = RandomForestClassifier(n_estimators= 300, random_state=42)\n",
    "knn = KNeighborsClassifier(metric= 'euclidean', n_neighbors= 5, weights= 'uniform')\n",
    "svm = SVC(C=10, degree=2, kernel = 'linear', probability = True)\n",
    "\n",
    "base_names = ['MNB', 'LR', 'RF', 'KNN', 'SVM']\n",
    "base_models = [mnb, lr, rf, knn, svm]\n",
    "\n",
    "print(\"TRAINING BASE MODEL ACCURACY\")\n",
    "for model, name in zip(base_models, base_names):\n",
    "    model.fit(X_train_tfidf, y_train)\n",
    "    scores = cross_val_score(model, X_train_tfidf, y_train, cv=5, scoring='accuracy') \n",
    "    mean_accuracy = scores.mean()\n",
    "\n",
    "    joblib.dump(model, '../Models/Base/basemodel_' + str(name) + '_grid.joblib')\n",
    "    print(name, '%.4f' % mean_accuracy)\n",
    "    print(name, np.around(scores, decimals=4))\n",
    "    print()\n"
   ]
  },
  {
   "cell_type": "code",
   "execution_count": null,
   "metadata": {},
   "outputs": [],
   "source": [
    "mnb = MultinomialNB()\n",
    "lr = LogisticRegression()\n",
    "rf = RandomForestClassifier()\n",
    "knn = KNeighborsClassifier()\n",
    "svm = SVC(probability=True)\n",
    "\n",
    "base_names = ['MNB', 'LR', 'RF', 'KNN', 'SVM']\n",
    "base_models = [mnb, lr, rf, knn, svm]\n",
    "\n",
    "print(\"TRAINING BASE MODEL ACCURACY\")\n",
    "for model, name in zip(base_models, base_names):\n",
    "    model.fit(X_train_tfidf, y_train)\n",
    "    scores = cross_val_score(model, X_train_tfidf, y_train, cv=5, scoring='accuracy') \n",
    "    mean_accuracy = scores.mean()\n",
    "\n",
    "    # joblib.dump(model, '../Models/Base/basemodel_' + str(name) + '.joblib')\n",
    "    print(name, '%.4f' % mean_accuracy)\n",
    "    print(name, np.around(scores, decimals=4))\n",
    "    print()\n",
    "    \n",
    "\n"
   ]
  },
  {
   "cell_type": "code",
   "execution_count": 17,
   "metadata": {},
   "outputs": [
    {
     "name": "stdout",
     "output_type": "stream",
     "text": [
      "[0.86935867 0.8432304  0.8456057  0.85952381 0.87142857]\n",
      "0.8578294310598349\n"
     ]
    }
   ],
   "source": [
    "knn_cv = joblib.load('../Models/CrossVal/basemodel_KNN_cv.joblib')\n",
    "scores = cross_val_score(knn_cv, X_train_tfidf, y_train, cv=5, scoring='accuracy') \n",
    "mean_accuracy = scores.mean()\n",
    "\n",
    "print(scores)\n",
    "print(mean_accuracy)\n"
   ]
  },
  {
   "cell_type": "code",
   "execution_count": 12,
   "metadata": {},
   "outputs": [
    {
     "name": "stdout",
     "output_type": "stream",
     "text": [
      "Comparison of Models: (TESTING)\n",
      "                        Accuracy Precision    Recall  F1 Score       AUC\n",
      "MNB                     0.834812  0.760274  0.980132  0.856316  0.969867\n",
      "LR                      0.922395  0.946387  0.896247  0.920635  0.978131\n",
      "RF                      0.929047  0.939052  0.918322  0.928571  0.978793\n",
      "KNN                     0.871397  0.824663  0.944812  0.880658  0.950515\n",
      "SVM                     0.939024  0.962791  0.913907  0.937712  0.982733\n",
      "Stacking Model                                                          \n",
      "Logistic Regression     0.946785  0.943107  0.951435  0.947253  0.986971\n",
      "Random Forest           0.953437  0.951648   0.95585  0.953744  0.985976\n",
      "Support Vector Machine  0.949002  0.939525  0.960265  0.949782  0.983913\n",
      "Multi-layer Perceptron   0.95898  0.954148   0.96468  0.959385  0.987124\n"
     ]
    },
    {
     "data": {
      "image/png": "[encoded data removed]",
      "text/plain": [
       "<Figure size 800x600 with 1 Axes>"
      ]
     },
     "metadata": {},
     "output_type": "display_data"
    }
   ],
   "source": [
    "base_names = ['MNB', 'LR', 'RF', 'KNN', 'SVM']\n",
    "metrics_df = pd.DataFrame(index=base_names, columns=['Accuracy', 'Precision', 'Recall', 'F1 Score', 'AUC'])\n",
    "\n",
    "\n",
    "# Evaluate base models\n",
    "for model, name in  zip(base_models , base_names):\n",
    "    y_pred = model.predict(X_test_tfidf)\n",
    "    y_prob = model.predict_proba(X_test_tfidf)[:, 1]  # Probability for positive class for ROC curve\n",
    "    \n",
    "    accuracy = accuracy_score(y_test, y_pred)\n",
    "    precision = precision_score(y_test, y_pred)\n",
    "    recall = recall_score(y_test, y_pred)\n",
    "    f1 = f1_score(y_test, y_pred)\n",
    "    auc = roc_auc_score(y_test, y_prob)\n",
    "    metrics_df.loc[name] = [accuracy, precision, recall, f1, auc]\n",
    "\n",
    "# Initialize the figure\n",
    "plt.figure(figsize=(8, 6))\n",
    "\n",
    "# Plot the baseline of a random classifier\n",
    "plt.plot([0, 1], [0, 1], 'k--')\n",
    "\n",
    "# Evaluate stacking models\n",
    "def get_performance_stats(model, name):\n",
    "    stack_y_pred = model.predict(X_test_tfidf)\n",
    "    stack_y_prob = model.predict_proba(X_test_tfidf)[:, 1]  \n",
    "\n",
    "    stack_accuracy = accuracy_score(y_test, stack_y_pred)\n",
    "    stack_precision = precision_score(y_test, stack_y_pred)\n",
    "    stack_recall = recall_score(y_test, stack_y_pred)\n",
    "    stack_f1 = f1_score(y_test, stack_y_pred)\n",
    "    stack_auc = roc_auc_score(y_test, stack_y_prob)\n",
    "    metrics_df.loc[name] = [stack_accuracy, stack_precision, stack_recall, stack_f1, stack_auc]\n",
    "\n",
    "    stack_fpr, stack_tpr, _ = roc_curve(y_test, stack_y_prob)\n",
    "    stack_roc_auc = roc_auc_score(y_test, stack_y_prob)\n",
    "\n",
    "    plt.plot(stack_fpr, stack_tpr, label=f'{name} (AUC = {stack_roc_auc:.4f})')\n",
    "    plt.xlim([0.0, 1.0])\n",
    "    plt.ylim([0.0, 1.05])\n",
    "    plt.xlabel('False Positive Rate')\n",
    "    plt.ylabel('True Positive Rate')\n",
    "    plt.title('ROC Curve - Stacking Models')\n",
    "    plt.legend(loc=\"lower right\")\n",
    "\n",
    "metrics_df.loc['Stacking Model'] = [\"\", \"\", \"\", \"\", \"\"]\n",
    "\n",
    "for model, name in models:\n",
    "    get_performance_stats(model, name)\n",
    "\n",
    "# Display the comparison table\n",
    "print(\"Comparison of Models: (TESTING)\")\n",
    "print(metrics_df)"
   ]
  }
 ],
 "metadata": {
  "kernelspec": {
   "display_name": "Python 3",
   "language": "python",
   "name": "python3"
  },
  "language_info": {
   "codemirror_mode": {
    "name": "ipython",
    "version": 3
   },
   "file_extension": ".py",
   "mimetype": "text/x-python",
   "name": "python",
   "nbconvert_exporter": "python",
   "pygments_lexer": "ipython3",
   "version": "3.11.2"
  }
 },
 "nbformat": 4,
 "nbformat_minor": 2
}
